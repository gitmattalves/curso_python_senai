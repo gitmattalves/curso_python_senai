{
  "nbformat": 4,
  "nbformat_minor": 0,
  "metadata": {
    "colab": {
      "name": "Untitled2.ipynb",
      "provenance": [],
      "toc_visible": true,
      "authorship_tag": "ABX9TyP+d5VSqKdb96e25lung1H/",
      "include_colab_link": true
    },
    "kernelspec": {
      "name": "python3",
      "display_name": "Python 3"
    },
    "language_info": {
      "name": "python"
    }
  },
  "cells": [
    {
      "cell_type": "markdown",
      "metadata": {
        "id": "view-in-github",
        "colab_type": "text"
      },
      "source": [
        "<a href=\"https://colab.research.google.com/github/gitmattalves/curso_python_senai/blob/main/Untitled2.ipynb\" target=\"_parent\"><img src=\"https://colab.research.google.com/assets/colab-badge.svg\" alt=\"Open In Colab\"/></a>"
      ]
    },
    {
      "cell_type": "code",
      "execution_count": 1,
      "metadata": {
        "id": "19w_xejwiL9h"
      },
      "outputs": [],
      "source": [
        "a = 100\n",
        "r = 0.01\n",
        "c = 30"
      ]
    },
    {
      "cell_type": "code",
      "source": [
        "a*(1+r)**c"
      ],
      "metadata": {
        "colab": {
          "base_uri": "https://localhost:8080/"
        },
        "id": "mNvfr1Awi0-4",
        "outputId": "53af28ce-2aec-4306-d352-e0684a746cef"
      },
      "execution_count": 6,
      "outputs": [
        {
          "output_type": "execute_result",
          "data": {
            "text/plain": [
              "134.78489153329062"
            ]
          },
          "metadata": {},
          "execution_count": 6
        }
      ]
    },
    {
      "cell_type": "code",
      "source": [
        "nome = 'Carla'"
      ],
      "metadata": {
        "id": "H0DGEKEojjhm"
      },
      "execution_count": 10,
      "outputs": []
    },
    {
      "cell_type": "code",
      "source": [
        "nome"
      ],
      "metadata": {
        "colab": {
          "base_uri": "https://localhost:8080/",
          "height": 35
        },
        "id": "c9DrWhnmjnU2",
        "outputId": "caa0ff91-a0cf-4c3a-dd0c-bced28334708"
      },
      "execution_count": 11,
      "outputs": [
        {
          "output_type": "execute_result",
          "data": {
            "text/plain": [
              "'Carla'"
            ],
            "application/vnd.google.colaboratory.intrinsic+json": {
              "type": "string"
            }
          },
          "metadata": {},
          "execution_count": 11
        }
      ]
    },
    {
      "cell_type": "code",
      "source": [
        "print ('Conheci uma menina chamada ' + nome)"
      ],
      "metadata": {
        "colab": {
          "base_uri": "https://localhost:8080/"
        },
        "id": "UWhpL4wdjuKm",
        "outputId": "511bfce3-e777-4fdf-eaa2-506adf823502"
      },
      "execution_count": 13,
      "outputs": [
        {
          "output_type": "stream",
          "name": "stdout",
          "text": [
            "Conheci uma menina chamada Carla\n"
          ]
        }
      ]
    },
    {
      "cell_type": "code",
      "source": [
        "txt = \"Por apenas {price:.2f} reais!\"\n",
        "print (txt.format(price = 49))"
      ],
      "metadata": {
        "colab": {
          "base_uri": "https://localhost:8080/"
        },
        "id": "HIDQ1iy5j_hm",
        "outputId": "8966a6ad-ca91-42a9-9ef6-6c57e211c96f"
      },
      "execution_count": 14,
      "outputs": [
        {
          "output_type": "stream",
          "name": "stdout",
          "text": [
            "Por apenas 49.00 reais!\n"
          ]
        }
      ]
    },
    {
      "cell_type": "code",
      "source": [
        "nome = 'Mateus'\n",
        "idade = 31\n",
        "cidade = 'Floripa'"
      ],
      "metadata": {
        "id": "wshoSmEgko7f"
      },
      "execution_count": 20,
      "outputs": []
    },
    {
      "cell_type": "code",
      "source": [
        "print('Olá! Meu nome é {nome}, nasci na cidade de {cidade} e tenho {idade} anos.'.format(nome = nome, cidade = cidade, idade= idade))"
      ],
      "metadata": {
        "colab": {
          "base_uri": "https://localhost:8080/"
        },
        "id": "gUtQ5BPGk51n",
        "outputId": "a7c99333-b539-45ad-f4f3-1c18eb1245cc"
      },
      "execution_count": 21,
      "outputs": [
        {
          "output_type": "stream",
          "name": "stdout",
          "text": [
            "Olá! Meu nome é Mateus, nasci na cidade de Floripa e tenho 31 anos.\n"
          ]
        }
      ]
    },
    {
      "cell_type": "code",
      "source": [
        "lista = [10, 2, 8, 13, 12, 11]"
      ],
      "metadata": {
        "id": "V6k4x5XtmB8m"
      },
      "execution_count": 22,
      "outputs": []
    },
    {
      "cell_type": "code",
      "source": [
        "lista[-6]"
      ],
      "metadata": {
        "colab": {
          "base_uri": "https://localhost:8080/"
        },
        "id": "Bd4SJYkmmPol",
        "outputId": "16562e74-ac74-4373-ac0a-f248603340a4"
      },
      "execution_count": 30,
      "outputs": [
        {
          "output_type": "execute_result",
          "data": {
            "text/plain": [
              "10"
            ]
          },
          "metadata": {},
          "execution_count": 30
        }
      ]
    },
    {
      "cell_type": "code",
      "source": [
        "lista [-1]"
      ],
      "metadata": {
        "colab": {
          "base_uri": "https://localhost:8080/"
        },
        "id": "WMYzdwOPnsUh",
        "outputId": "d8e42a6d-f9c7-4982-ceae-99dbc04b91ff"
      },
      "execution_count": 31,
      "outputs": [
        {
          "output_type": "execute_result",
          "data": {
            "text/plain": [
              "11"
            ]
          },
          "metadata": {},
          "execution_count": 31
        }
      ]
    },
    {
      "cell_type": "code",
      "source": [
        "lista [0:2]"
      ],
      "metadata": {
        "colab": {
          "base_uri": "https://localhost:8080/"
        },
        "id": "E56rpzkunwWG",
        "outputId": "6a720627-9064-416e-8615-bb5d652fcd55"
      },
      "execution_count": 32,
      "outputs": [
        {
          "output_type": "execute_result",
          "data": {
            "text/plain": [
              "[10, 2]"
            ]
          },
          "metadata": {},
          "execution_count": 32
        }
      ]
    },
    {
      "cell_type": "code",
      "source": [
        "lista [0:3]"
      ],
      "metadata": {
        "colab": {
          "base_uri": "https://localhost:8080/"
        },
        "id": "gn-UzrKnn5i3",
        "outputId": "8fd640b1-0bca-4b88-9ccd-43400f6210f5"
      },
      "execution_count": 33,
      "outputs": [
        {
          "output_type": "execute_result",
          "data": {
            "text/plain": [
              "[10, 2, 8]"
            ]
          },
          "metadata": {},
          "execution_count": 33
        }
      ]
    },
    {
      "cell_type": "code",
      "source": [
        "lista [2:4]"
      ],
      "metadata": {
        "colab": {
          "base_uri": "https://localhost:8080/"
        },
        "id": "KbOgp1Xzn9CG",
        "outputId": "54132170-c7cc-4da0-e84f-a6c50dc44616"
      },
      "execution_count": 34,
      "outputs": [
        {
          "output_type": "execute_result",
          "data": {
            "text/plain": [
              "[8, 13]"
            ]
          },
          "metadata": {},
          "execution_count": 34
        }
      ]
    },
    {
      "cell_type": "code",
      "source": [
        "a = [1, 2, 3]\n",
        "b = [4, 5, 6]"
      ],
      "metadata": {
        "id": "XoBp5QJVoFgW"
      },
      "execution_count": 36,
      "outputs": []
    },
    {
      "cell_type": "code",
      "source": [
        "a + b"
      ],
      "metadata": {
        "colab": {
          "base_uri": "https://localhost:8080/"
        },
        "id": "c3c9kOdfoN0g",
        "outputId": "63c3ee27-9fa7-4819-cc71-5069ce221598"
      },
      "execution_count": 37,
      "outputs": [
        {
          "output_type": "execute_result",
          "data": {
            "text/plain": [
              "[1, 2, 3, 4, 5, 6]"
            ]
          },
          "metadata": {},
          "execution_count": 37
        }
      ]
    },
    {
      "cell_type": "code",
      "source": [
        "sum(a)\n"
      ],
      "metadata": {
        "colab": {
          "base_uri": "https://localhost:8080/"
        },
        "id": "8IlLLotkoZI2",
        "outputId": "1eb18339-5205-4767-f5e7-8669fb390ea6"
      },
      "execution_count": 38,
      "outputs": [
        {
          "output_type": "execute_result",
          "data": {
            "text/plain": [
              "6"
            ]
          },
          "metadata": {},
          "execution_count": 38
        }
      ]
    },
    {
      "cell_type": "code",
      "source": [
        "sum(b)"
      ],
      "metadata": {
        "colab": {
          "base_uri": "https://localhost:8080/"
        },
        "id": "mnkf16vRodsl",
        "outputId": "8e94dcca-4e45-4c31-e08d-1f72ea7c9c1f"
      },
      "execution_count": 39,
      "outputs": [
        {
          "output_type": "execute_result",
          "data": {
            "text/plain": [
              "15"
            ]
          },
          "metadata": {},
          "execution_count": 39
        }
      ]
    },
    {
      "cell_type": "code",
      "source": [
        "sum(a+b)"
      ],
      "metadata": {
        "colab": {
          "base_uri": "https://localhost:8080/"
        },
        "id": "VJ0zVPD5ojM-",
        "outputId": "eea45a20-4df4-4ada-89b1-33fd010aa97a"
      },
      "execution_count": 40,
      "outputs": [
        {
          "output_type": "execute_result",
          "data": {
            "text/plain": [
              "21"
            ]
          },
          "metadata": {},
          "execution_count": 40
        }
      ]
    },
    {
      "cell_type": "code",
      "source": [
        "len(a)"
      ],
      "metadata": {
        "colab": {
          "base_uri": "https://localhost:8080/"
        },
        "id": "cnil6EwZo7Fv",
        "outputId": "65a0521b-f518-41c7-f228-6609c0c08fbc"
      },
      "execution_count": 41,
      "outputs": [
        {
          "output_type": "execute_result",
          "data": {
            "text/plain": [
              "3"
            ]
          },
          "metadata": {},
          "execution_count": 41
        }
      ]
    },
    {
      "cell_type": "code",
      "source": [
        "sum(a)/len(a)"
      ],
      "metadata": {
        "colab": {
          "base_uri": "https://localhost:8080/"
        },
        "id": "wewSEboqo-y2",
        "outputId": "87800590-d90c-4195-cba9-cd1b2a37f62e"
      },
      "execution_count": 42,
      "outputs": [
        {
          "output_type": "execute_result",
          "data": {
            "text/plain": [
              "2.0"
            ]
          },
          "metadata": {},
          "execution_count": 42
        }
      ]
    },
    {
      "cell_type": "code",
      "source": [
        "nomes = ['Laura', 'João', 'Lúcia', 'Ana']"
      ],
      "metadata": {
        "id": "CU2E3se4psL-"
      },
      "execution_count": 43,
      "outputs": []
    },
    {
      "cell_type": "code",
      "source": [
        "nomes [2]"
      ],
      "metadata": {
        "colab": {
          "base_uri": "https://localhost:8080/",
          "height": 35
        },
        "id": "ojAchTRvqOig",
        "outputId": "c1d77706-4690-4b1e-e0d1-a8449c3d4f8f"
      },
      "execution_count": 45,
      "outputs": [
        {
          "output_type": "execute_result",
          "data": {
            "text/plain": [
              "'Lúcia'"
            ],
            "application/vnd.google.colaboratory.intrinsic+json": {
              "type": "string"
            }
          },
          "metadata": {},
          "execution_count": 45
        }
      ]
    },
    {
      "cell_type": "code",
      "source": [
        "bools = [True, False, True, True, True]"
      ],
      "metadata": {
        "id": "WtfELvhPqX1G"
      },
      "execution_count": 46,
      "outputs": []
    },
    {
      "cell_type": "code",
      "source": [
        "bools"
      ],
      "metadata": {
        "colab": {
          "base_uri": "https://localhost:8080/"
        },
        "id": "4EKOQ2dXqyhw",
        "outputId": "0aa0d874-16a7-4178-9436-93d5cd35ec73"
      },
      "execution_count": 47,
      "outputs": [
        {
          "output_type": "execute_result",
          "data": {
            "text/plain": [
              "[True, False, True, True, True]"
            ]
          },
          "metadata": {},
          "execution_count": 47
        }
      ]
    },
    {
      "cell_type": "code",
      "source": [
        "sum(bools)"
      ],
      "metadata": {
        "colab": {
          "base_uri": "https://localhost:8080/"
        },
        "id": "JjqV5fx_q2bO",
        "outputId": "c6cfb367-e8b0-44cb-9403-2e05079bc582"
      },
      "execution_count": 48,
      "outputs": [
        {
          "output_type": "execute_result",
          "data": {
            "text/plain": [
              "4"
            ]
          },
          "metadata": {},
          "execution_count": 48
        }
      ]
    },
    {
      "cell_type": "code",
      "source": [
        "lista2 = [20, 10, 5, 6, True, False]\n",
        "lista2\n"
      ],
      "metadata": {
        "colab": {
          "base_uri": "https://localhost:8080/"
        },
        "id": "S_UEUz8Zq6gi",
        "outputId": "62f03069-7ede-4b96-cf74-838c0c9cbd07"
      },
      "execution_count": 49,
      "outputs": [
        {
          "output_type": "execute_result",
          "data": {
            "text/plain": [
              "[20, 10, 5, 6, True, False]"
            ]
          },
          "metadata": {},
          "execution_count": 49
        }
      ]
    },
    {
      "cell_type": "code",
      "source": [
        "sum(lista2)"
      ],
      "metadata": {
        "colab": {
          "base_uri": "https://localhost:8080/"
        },
        "id": "GQGtjkRerKze",
        "outputId": "10ed4d2f-b69a-4571-9529-934e267c42e1"
      },
      "execution_count": 50,
      "outputs": [
        {
          "output_type": "execute_result",
          "data": {
            "text/plain": [
              "42"
            ]
          },
          "metadata": {},
          "execution_count": 50
        }
      ]
    },
    {
      "cell_type": "code",
      "source": [
        "lista2.append(35)"
      ],
      "metadata": {
        "id": "goZ8lNDurt7x"
      },
      "execution_count": 51,
      "outputs": []
    },
    {
      "cell_type": "code",
      "source": [
        "lista2"
      ],
      "metadata": {
        "colab": {
          "base_uri": "https://localhost:8080/"
        },
        "id": "XZGfoaxIr5bG",
        "outputId": "e2ca58fd-a219-4ba2-c48f-e8e950371b39"
      },
      "execution_count": 57,
      "outputs": [
        {
          "output_type": "execute_result",
          "data": {
            "text/plain": [
              "[10, 5, 6, True, False, 35]"
            ]
          },
          "metadata": {},
          "execution_count": 57
        }
      ]
    },
    {
      "cell_type": "code",
      "source": [
        "lista2.pop()"
      ],
      "metadata": {
        "colab": {
          "base_uri": "https://localhost:8080/"
        },
        "id": "XmIOAJAusT8O",
        "outputId": "b30a0482-e065-4172-e215-f1e4ee7a9b7b"
      },
      "execution_count": 59,
      "outputs": [
        {
          "output_type": "execute_result",
          "data": {
            "text/plain": [
              "35"
            ]
          },
          "metadata": {},
          "execution_count": 59
        }
      ]
    },
    {
      "cell_type": "code",
      "source": [
        "lista2"
      ],
      "metadata": {
        "colab": {
          "base_uri": "https://localhost:8080/"
        },
        "id": "sz3gZlQQsbjm",
        "outputId": "c006e0a7-5745-4e4d-de2f-065f73673aae"
      },
      "execution_count": 60,
      "outputs": [
        {
          "output_type": "execute_result",
          "data": {
            "text/plain": [
              "[10, 5, 6, True, False]"
            ]
          },
          "metadata": {},
          "execution_count": 60
        }
      ]
    },
    {
      "cell_type": "code",
      "source": [
        "lista2.remove(False)"
      ],
      "metadata": {
        "id": "tNgkAyjntHF2"
      },
      "execution_count": 61,
      "outputs": []
    },
    {
      "cell_type": "code",
      "source": [
        "lista2"
      ],
      "metadata": {
        "colab": {
          "base_uri": "https://localhost:8080/"
        },
        "id": "Ty6lvuxktOce",
        "outputId": "e3796315-0df7-4a59-e00e-225519224a3f"
      },
      "execution_count": 62,
      "outputs": [
        {
          "output_type": "execute_result",
          "data": {
            "text/plain": [
              "[10, 5, 6, True]"
            ]
          },
          "metadata": {},
          "execution_count": 62
        }
      ]
    },
    {
      "cell_type": "code",
      "source": [
        "lista3 = lista2\n",
        "lista3"
      ],
      "metadata": {
        "colab": {
          "base_uri": "https://localhost:8080/"
        },
        "id": "Svyyuj4ltUnu",
        "outputId": "a6621ce6-0418-4e5a-a9d5-af81e5d8e411"
      },
      "execution_count": 75,
      "outputs": [
        {
          "output_type": "execute_result",
          "data": {
            "text/plain": [
              "[10, 5, 6, True]"
            ]
          },
          "metadata": {},
          "execution_count": 75
        }
      ]
    },
    {
      "cell_type": "code",
      "source": [
        "lista4 = lista3.copy()"
      ],
      "metadata": {
        "id": "2OBRB-Kwt1-g"
      },
      "execution_count": 87,
      "outputs": []
    },
    {
      "cell_type": "code",
      "source": [
        "lista4.append(13)"
      ],
      "metadata": {
        "id": "5-3yLuFDuIbm"
      },
      "execution_count": 92,
      "outputs": []
    },
    {
      "cell_type": "code",
      "source": [
        "lista4"
      ],
      "metadata": {
        "colab": {
          "base_uri": "https://localhost:8080/"
        },
        "id": "jGYt8GYluosv",
        "outputId": "014a08f3-86c8-4651-d6ed-0891ddc3c94c"
      },
      "execution_count": 93,
      "outputs": [
        {
          "output_type": "execute_result",
          "data": {
            "text/plain": [
              "[10, 5, 6, True, 13, 13]"
            ]
          },
          "metadata": {},
          "execution_count": 93
        }
      ]
    },
    {
      "cell_type": "code",
      "source": [
        "lista4"
      ],
      "metadata": {
        "colab": {
          "base_uri": "https://localhost:8080/"
        },
        "id": "GEpn8A9tuuLG",
        "outputId": "d17f6e21-362a-43f7-84ea-f74d0950a452"
      },
      "execution_count": 94,
      "outputs": [
        {
          "output_type": "execute_result",
          "data": {
            "text/plain": [
              "[10, 5, 6, True, 13, 13]"
            ]
          },
          "metadata": {},
          "execution_count": 94
        }
      ]
    },
    {
      "cell_type": "code",
      "source": [
        "lista3"
      ],
      "metadata": {
        "colab": {
          "base_uri": "https://localhost:8080/"
        },
        "id": "mz7Cin_IvCzR",
        "outputId": "36ce5286-ae12-42c5-a53c-fcb8a9fa9051"
      },
      "execution_count": 95,
      "outputs": [
        {
          "output_type": "execute_result",
          "data": {
            "text/plain": [
              "[10, 5, 6, True]"
            ]
          },
          "metadata": {},
          "execution_count": 95
        }
      ]
    },
    {
      "cell_type": "code",
      "source": [
        "nome = 'Maria Antonia'"
      ],
      "metadata": {
        "id": "nA9Okuyhvsam"
      },
      "execution_count": 96,
      "outputs": []
    },
    {
      "cell_type": "markdown",
      "source": [
        ""
      ],
      "metadata": {
        "id": "lTw79P_dt10U"
      }
    },
    {
      "cell_type": "code",
      "source": [
        "type (nome)"
      ],
      "metadata": {
        "colab": {
          "base_uri": "https://localhost:8080/"
        },
        "id": "c0MedPATxq-_",
        "outputId": "8e5db60c-5d78-48bb-9af3-80f35a773bf6"
      },
      "execution_count": 99,
      "outputs": [
        {
          "output_type": "execute_result",
          "data": {
            "text/plain": [
              "str"
            ]
          },
          "metadata": {},
          "execution_count": 99
        }
      ]
    },
    {
      "cell_type": "code",
      "source": [
        "nome.upper() #Caixa alta"
      ],
      "metadata": {
        "colab": {
          "base_uri": "https://localhost:8080/",
          "height": 35
        },
        "id": "caMeuIeEyAx2",
        "outputId": "d6b856b8-d7b4-4e3c-83c1-43976718d9df"
      },
      "execution_count": 102,
      "outputs": [
        {
          "output_type": "execute_result",
          "data": {
            "text/plain": [
              "'MARIA ANTONIA'"
            ],
            "application/vnd.google.colaboratory.intrinsic+json": {
              "type": "string"
            }
          },
          "metadata": {},
          "execution_count": 102
        }
      ]
    },
    {
      "cell_type": "code",
      "source": [
        "nome.index('t')"
      ],
      "metadata": {
        "colab": {
          "base_uri": "https://localhost:8080/"
        },
        "id": "r281TEIqyWtG",
        "outputId": "a3cd7f69-8e4c-468c-d902-5e025472ea15"
      },
      "execution_count": 104,
      "outputs": [
        {
          "output_type": "execute_result",
          "data": {
            "text/plain": [
              "8"
            ]
          },
          "metadata": {},
          "execution_count": 104
        }
      ]
    },
    {
      "cell_type": "code",
      "source": [
        "nome.replace('a' , 'x')"
      ],
      "metadata": {
        "colab": {
          "base_uri": "https://localhost:8080/",
          "height": 35
        },
        "id": "DRB7TL_Jztum",
        "outputId": "de344d8e-0de6-4ab8-8a2c-f0db1e2c7f2e"
      },
      "execution_count": 105,
      "outputs": [
        {
          "output_type": "execute_result",
          "data": {
            "text/plain": [
              "'Mxrix Antonix'"
            ],
            "application/vnd.google.colaboratory.intrinsic+json": {
              "type": "string"
            }
          },
          "metadata": {},
          "execution_count": 105
        }
      ]
    },
    {
      "cell_type": "code",
      "source": [
        "nome2 = 'Maria Antonia, 35, Floripa, Contadora'"
      ],
      "metadata": {
        "id": "-ezH-mXpcJgC"
      },
      "execution_count": 3,
      "outputs": []
    },
    {
      "cell_type": "code",
      "source": [
        "nome2.split(',')"
      ],
      "metadata": {
        "colab": {
          "base_uri": "https://localhost:8080/"
        },
        "id": "5gaItzmgcXMy",
        "outputId": "d7f81526-6ed6-41fd-eb63-bda9d9f45c5f"
      },
      "execution_count": 4,
      "outputs": [
        {
          "output_type": "execute_result",
          "data": {
            "text/plain": [
              "['Maria Antonia', ' 35', ' Floripa', ' Contadora']"
            ]
          },
          "metadata": {},
          "execution_count": 4
        }
      ]
    },
    {
      "cell_type": "code",
      "source": [
        "nomes_A = {'Jean', 'Joao', 'Jose', 'Luiz', 'Pedro', 'Antonio', 'Jose'}\n",
        "nomes_B = {'Joao', 'Milena', 'Luiza', 'Pedro', 'Rafael'}"
      ],
      "metadata": {
        "id": "Dq4i8DLkfEqR"
      },
      "execution_count": 9,
      "outputs": []
    },
    {
      "cell_type": "code",
      "source": [
        "nomes_A"
      ],
      "metadata": {
        "colab": {
          "base_uri": "https://localhost:8080/"
        },
        "id": "PTJqaF3xfl_D",
        "outputId": "efd7d9ae-3af7-4e4f-bfe6-457ba225d111"
      },
      "execution_count": 10,
      "outputs": [
        {
          "output_type": "execute_result",
          "data": {
            "text/plain": [
              "{'Antonio', 'Jean', 'Joao', 'Jose', 'Luiz', 'Pedro'}"
            ]
          },
          "metadata": {},
          "execution_count": 10
        }
      ]
    },
    {
      "cell_type": "code",
      "source": [
        "nomes_A.union(nomes_B)"
      ],
      "metadata": {
        "colab": {
          "base_uri": "https://localhost:8080/"
        },
        "id": "phBqUacvfl2y",
        "outputId": "d75b8b29-5a14-484b-addd-fd91a868a35b"
      },
      "execution_count": 11,
      "outputs": [
        {
          "output_type": "execute_result",
          "data": {
            "text/plain": [
              "{'Antonio',\n",
              " 'Jean',\n",
              " 'Joao',\n",
              " 'Jose',\n",
              " 'Luiz',\n",
              " 'Luiza',\n",
              " 'Milena',\n",
              " 'Pedro',\n",
              " 'Rafael'}"
            ]
          },
          "metadata": {},
          "execution_count": 11
        }
      ]
    },
    {
      "cell_type": "code",
      "source": [
        "nomes_A.intersection(nomes_B)"
      ],
      "metadata": {
        "colab": {
          "base_uri": "https://localhost:8080/"
        },
        "id": "y61BoURhgQPC",
        "outputId": "8bec2538-8087-4031-b1be-80f61199bad9"
      },
      "execution_count": 12,
      "outputs": [
        {
          "output_type": "execute_result",
          "data": {
            "text/plain": [
              "{'Joao', 'Pedro'}"
            ]
          },
          "metadata": {},
          "execution_count": 12
        }
      ]
    },
    {
      "cell_type": "code",
      "source": [
        "nomes_A.difference(nomes_B)"
      ],
      "metadata": {
        "colab": {
          "base_uri": "https://localhost:8080/"
        },
        "id": "cWNwQQGZhAqD",
        "outputId": "29395230-cd6a-4ac9-ff87-43f65cf743fa"
      },
      "execution_count": 13,
      "outputs": [
        {
          "output_type": "execute_result",
          "data": {
            "text/plain": [
              "{'Antonio', 'Jean', 'Jose', 'Luiz'}"
            ]
          },
          "metadata": {},
          "execution_count": 13
        }
      ]
    },
    {
      "cell_type": "code",
      "source": [
        "a, b = 2, 3\n"
      ],
      "metadata": {
        "id": "e5om1eEyjvXR"
      },
      "execution_count": 15,
      "outputs": []
    },
    {
      "cell_type": "code",
      "source": [
        "a, b = b, a"
      ],
      "metadata": {
        "id": "GtLt1MB6kSqC"
      },
      "execution_count": 16,
      "outputs": []
    },
    {
      "cell_type": "code",
      "source": [
        "a"
      ],
      "metadata": {
        "colab": {
          "base_uri": "https://localhost:8080/"
        },
        "id": "L3Ujx_9ykWWS",
        "outputId": "79755361-8d5f-4431-8888-2e5c4f280859"
      },
      "execution_count": 17,
      "outputs": [
        {
          "output_type": "execute_result",
          "data": {
            "text/plain": [
              "3"
            ]
          },
          "metadata": {},
          "execution_count": 17
        }
      ]
    },
    {
      "cell_type": "code",
      "source": [
        "b"
      ],
      "metadata": {
        "colab": {
          "base_uri": "https://localhost:8080/"
        },
        "id": "7NN2-X32kYpC",
        "outputId": "cbddf6af-39cb-47f6-8d97-8ca6cc122a14"
      },
      "execution_count": 18,
      "outputs": [
        {
          "output_type": "execute_result",
          "data": {
            "text/plain": [
              "2"
            ]
          },
          "metadata": {},
          "execution_count": 18
        }
      ]
    },
    {
      "cell_type": "code",
      "source": [
        "nomes = ['ana', 'laura', 'miriam']\n",
        "idade = [ 12, 8, 16]\n",
        "brinquedo = ['boneca', 'carro', 'lego']"
      ],
      "metadata": {
        "id": "l1dnM9gHkbOR"
      },
      "execution_count": 19,
      "outputs": []
    },
    {
      "cell_type": "code",
      "source": [
        "zip(nomes, idade, brinquedo)"
      ],
      "metadata": {
        "colab": {
          "base_uri": "https://localhost:8080/"
        },
        "id": "sG5kUUQhlLYy",
        "outputId": "1461505d-1c18-4e5b-dbb4-6e35122e7870"
      },
      "execution_count": 21,
      "outputs": [
        {
          "output_type": "execute_result",
          "data": {
            "text/plain": [
              "<zip at 0x7fcfa72ddf50>"
            ]
          },
          "metadata": {},
          "execution_count": 21
        }
      ]
    },
    {
      "cell_type": "code",
      "source": [
        "list(zip(nomes, idade, brinquedo))"
      ],
      "metadata": {
        "colab": {
          "base_uri": "https://localhost:8080/"
        },
        "id": "MYno-TzjlW65",
        "outputId": "928014a5-9c92-4e33-f949-630f309dd0a3"
      },
      "execution_count": 22,
      "outputs": [
        {
          "output_type": "execute_result",
          "data": {
            "text/plain": [
              "[('ana', 12, 'boneca'), ('laura', 8, 'carro'), ('miriam', 16, 'lego')]"
            ]
          },
          "metadata": {},
          "execution_count": 22
        }
      ]
    },
    {
      "cell_type": "code",
      "source": [
        "dicionario = {'nome' : nomes,\n",
        "              'idade' : idade,\n",
        "              'brinquedo' : brinquedo\n",
        "\n",
        "}"
      ],
      "metadata": {
        "id": "cpLcEAzYm9NJ"
      },
      "execution_count": 27,
      "outputs": []
    },
    {
      "cell_type": "code",
      "source": [
        "dicionario"
      ],
      "metadata": {
        "colab": {
          "base_uri": "https://localhost:8080/"
        },
        "id": "dLrD6ei5nVNR",
        "outputId": "4a59e72b-62fe-49a3-cc93-45cfdb63bf2b"
      },
      "execution_count": 28,
      "outputs": [
        {
          "output_type": "execute_result",
          "data": {
            "text/plain": [
              "{'brinquedo': ['boneca', 'carro', 'lego'],\n",
              " 'idade': [12, 8, 16],\n",
              " 'nome': ['ana', 'laura', 'miriam']}"
            ]
          },
          "metadata": {},
          "execution_count": 28
        }
      ]
    },
    {
      "cell_type": "code",
      "source": [
        "dicionario ['idade']"
      ],
      "metadata": {
        "colab": {
          "base_uri": "https://localhost:8080/"
        },
        "id": "0HF0VHFhnc05",
        "outputId": "d410c0dd-ae45-4c82-abbd-82a528f08d4a"
      },
      "execution_count": 29,
      "outputs": [
        {
          "output_type": "execute_result",
          "data": {
            "text/plain": [
              "[12, 8, 16]"
            ]
          },
          "metadata": {},
          "execution_count": 29
        }
      ]
    },
    {
      "cell_type": "code",
      "source": [
        "dicionario ['idade'][1]"
      ],
      "metadata": {
        "colab": {
          "base_uri": "https://localhost:8080/"
        },
        "id": "N4WzOIIUnooJ",
        "outputId": "466ba762-90e7-4e69-fbd4-8660cc07a0e8"
      },
      "execution_count": 30,
      "outputs": [
        {
          "output_type": "execute_result",
          "data": {
            "text/plain": [
              "8"
            ]
          },
          "metadata": {},
          "execution_count": 30
        }
      ]
    },
    {
      "cell_type": "code",
      "source": [
        "a = True\n",
        "b = False"
      ],
      "metadata": {
        "id": "36TWMX-goBH6"
      },
      "execution_count": 31,
      "outputs": []
    },
    {
      "cell_type": "code",
      "source": [
        "a == b"
      ],
      "metadata": {
        "colab": {
          "base_uri": "https://localhost:8080/"
        },
        "id": "gY9WtSSjoGAx",
        "outputId": "f247f9f9-b1d4-403a-d986-6037f87228b8"
      },
      "execution_count": 32,
      "outputs": [
        {
          "output_type": "execute_result",
          "data": {
            "text/plain": [
              "False"
            ]
          },
          "metadata": {},
          "execution_count": 32
        }
      ]
    },
    {
      "cell_type": "code",
      "source": [
        "True == True"
      ],
      "metadata": {
        "colab": {
          "base_uri": "https://localhost:8080/"
        },
        "id": "HzzEyEeCoS9h",
        "outputId": "2c7debf7-de03-4e8b-a7ce-f2be0446b696"
      },
      "execution_count": 34,
      "outputs": [
        {
          "output_type": "execute_result",
          "data": {
            "text/plain": [
              "True"
            ]
          },
          "metadata": {},
          "execution_count": 34
        }
      ]
    },
    {
      "cell_type": "code",
      "source": [
        "True == False"
      ],
      "metadata": {
        "colab": {
          "base_uri": "https://localhost:8080/"
        },
        "id": "MndP_2teoYPj",
        "outputId": "f4b5b497-ce85-4826-842d-d9babeff22ef"
      },
      "execution_count": 35,
      "outputs": [
        {
          "output_type": "execute_result",
          "data": {
            "text/plain": [
              "False"
            ]
          },
          "metadata": {},
          "execution_count": 35
        }
      ]
    },
    {
      "cell_type": "code",
      "source": [
        "(True == True) & (True == False)"
      ],
      "metadata": {
        "colab": {
          "base_uri": "https://localhost:8080/"
        },
        "id": "iZ3siys2oddS",
        "outputId": "99a387cc-4714-4c63-9d59-dff5899a9e4a"
      },
      "execution_count": 37,
      "outputs": [
        {
          "output_type": "execute_result",
          "data": {
            "text/plain": [
              "False"
            ]
          },
          "metadata": {},
          "execution_count": 37
        }
      ]
    },
    {
      "cell_type": "code",
      "source": [
        "(True == True) | (True == False)"
      ],
      "metadata": {
        "colab": {
          "base_uri": "https://localhost:8080/"
        },
        "id": "EXOa7TGfo1uy",
        "outputId": "f38cbbdf-d8a6-4b04-c298-5c1525540132"
      },
      "execution_count": 38,
      "outputs": [
        {
          "output_type": "execute_result",
          "data": {
            "text/plain": [
              "True"
            ]
          },
          "metadata": {},
          "execution_count": 38
        }
      ]
    },
    {
      "cell_type": "code",
      "source": [
        "#CONDICIONAIS"
      ],
      "metadata": {
        "id": "sIEgDjTXpLp5"
      },
      "execution_count": 39,
      "outputs": []
    },
    {
      "cell_type": "code",
      "source": [
        "cond = 10\n",
        "var1 = 2\n",
        "var2 = 4\n",
        "var3 =8"
      ],
      "metadata": {
        "id": "K858tf_LpO1q"
      },
      "execution_count": 44,
      "outputs": []
    },
    {
      "cell_type": "code",
      "source": [
        "cond = 10\n",
        "var1 = 2\n",
        "var2 = 4\n",
        "var3 =8\n",
        "\n",
        "if cond > 10:\n",
        "    var1*var2*var3\n",
        "else:\n",
        "        print ('Não atende a condição')"
      ],
      "metadata": {
        "colab": {
          "base_uri": "https://localhost:8080/"
        },
        "id": "QWHpZczqpZU5",
        "outputId": "b9fbd6f5-c2a2-4f40-9362-401cb65bf52f"
      },
      "execution_count": 48,
      "outputs": [
        {
          "output_type": "stream",
          "name": "stdout",
          "text": [
            "Não atende a condição\n"
          ]
        }
      ]
    },
    {
      "cell_type": "code",
      "source": [
        "cond = 4\n",
        "var1 = 2\n",
        "var2 = 4\n",
        "var3 =8\n",
        "\n",
        "if cond > 10:\n",
        "    print(var1*var2)\n",
        "elif cond >= 8:\n",
        "    print(var1/var2)\n",
        "elif cond >= 4:\n",
        "    print((var1+var2)/var3)\n",
        "else:\n",
        "    print ('Varzea')\n"
      ],
      "metadata": {
        "colab": {
          "base_uri": "https://localhost:8080/"
        },
        "id": "w-MPvjg9qGAR",
        "outputId": "b9dc9d55-7c33-4fd1-b88e-4ac4354d47f6"
      },
      "execution_count": 65,
      "outputs": [
        {
          "output_type": "stream",
          "name": "stdout",
          "text": [
            "0.75\n"
          ]
        }
      ]
    },
    {
      "cell_type": "code",
      "source": [
        "\n",
        "p1 = 10\n",
        "p2 = 9.4\n",
        "p3 = 9\n",
        "\n",
        "media = (p1 + p2 + p3)/3\n",
        "\n",
        "if media >= 9.5: \n",
        "    print('Passou com Louvor')\n",
        "elif media >6<9.5:\n",
        "        print('Aprovado')\n",
        "elif media >=5<6:\n",
        "        print('Recuperação')\n",
        "else: \n",
        "    print('Reprovado')\n",
        "\n"
      ],
      "metadata": {
        "colab": {
          "base_uri": "https://localhost:8080/"
        },
        "id": "VOgKT6OEsliQ",
        "outputId": "143b9d2b-2178-4741-9152-377d84ca96de"
      },
      "execution_count": 97,
      "outputs": [
        {
          "output_type": "stream",
          "name": "stdout",
          "text": [
            "Aprovado\n"
          ]
        }
      ]
    },
    {
      "cell_type": "code",
      "source": [
        "#While = Enquanto\n",
        "a = 0 \n",
        "while a != 10:\n",
        "    print(a)\n",
        "    a =+ a + 1"
      ],
      "metadata": {
        "colab": {
          "base_uri": "https://localhost:8080/"
        },
        "id": "kHyJtq7W0LIo",
        "outputId": "9d92d29c-f2f4-4b9d-be0f-b9392ebd8143"
      },
      "execution_count": 100,
      "outputs": [
        {
          "output_type": "stream",
          "name": "stdout",
          "text": [
            "0\n",
            "1\n",
            "2\n",
            "3\n",
            "4\n",
            "5\n",
            "6\n",
            "7\n",
            "8\n",
            "9\n"
          ]
        }
      ]
    },
    {
      "cell_type": "code",
      "source": [
        "for i in range(10):\n",
        "  print(i)"
      ],
      "metadata": {
        "colab": {
          "base_uri": "https://localhost:8080/"
        },
        "id": "0Ou3tJwJ1zmy",
        "outputId": "3c2f163e-bc13-49c4-d4f9-af53690493aa"
      },
      "execution_count": 108,
      "outputs": [
        {
          "output_type": "stream",
          "name": "stdout",
          "text": [
            "0\n",
            "1\n",
            "2\n",
            "3\n",
            "4\n",
            "5\n",
            "6\n",
            "7\n",
            "8\n",
            "9\n"
          ]
        }
      ]
    },
    {
      "cell_type": "code",
      "source": [
        "#CALCULADORA DE JUROS COMPOSTOS\n",
        "def juros_compostos(P, r, n):\n",
        "    r = r/100\n",
        "\n",
        "    juros = P*(1+r)**n\n",
        "    return(juros)\n",
        "   "
      ],
      "metadata": {
        "id": "Z3kt91V03Gh7"
      },
      "execution_count": 113,
      "outputs": []
    },
    {
      "cell_type": "code",
      "source": [
        "a = juros_compostos(1000, 3, 10)"
      ],
      "metadata": {
        "id": "CninkAIy33eQ"
      },
      "execution_count": 115,
      "outputs": []
    },
    {
      "cell_type": "code",
      "source": [
        "a"
      ],
      "metadata": {
        "colab": {
          "base_uri": "https://localhost:8080/"
        },
        "id": "-zjf-Xpe4PYi",
        "outputId": "d62c0993-fb1f-47d5-9710-f279f18e9230"
      },
      "execution_count": 116,
      "outputs": [
        {
          "output_type": "execute_result",
          "data": {
            "text/plain": [
              "1343.9163793441223"
            ]
          },
          "metadata": {},
          "execution_count": 116
        }
      ]
    },
    {
      "cell_type": "code",
      "source": [
        "def notas(p1, p2, p3):\n",
        "    media = (p1+p2+p3)/3\n",
        "    if media >= 9.5: \n",
        "      print('Passou com Louvor')\n",
        "    elif (media < 9.5) & (media >= 6):\n",
        "        print('Aprovado')\n",
        "    elif (media <6) & (media >= 5):\n",
        "        print('Recuperação')\n",
        "    elif media < 5: \n",
        "      print('Reprovado')\n",
        "    else:\n",
        "      print ('Rever cálculo, existem valores incorretos!')\n",
        "    return(media)\n",
        "\n",
        "   "
      ],
      "metadata": {
        "id": "03G7wVKE4YaI"
      },
      "execution_count": 142,
      "outputs": []
    },
    {
      "cell_type": "code",
      "source": [
        "notas(5, 6, 3)"
      ],
      "metadata": {
        "colab": {
          "base_uri": "https://localhost:8080/"
        },
        "id": "2TEWQvfE5Wlw",
        "outputId": "b00b3446-aa66-4590-b850-b810c60c5849"
      },
      "execution_count": 146,
      "outputs": [
        {
          "output_type": "stream",
          "name": "stdout",
          "text": [
            "Reprovado\n"
          ]
        },
        {
          "output_type": "execute_result",
          "data": {
            "text/plain": [
              "4.666666666666667"
            ]
          },
          "metadata": {},
          "execution_count": 146
        }
      ]
    },
    {
      "cell_type": "code",
      "source": [
        "def primeira_letra(nome):\n",
        "    return(nome[0])\n",
        "\n",
        "lista = ['Jean', 'Pedro', 'Jade', 'Maria' ] \n",
        "\n",
        "for nome in lista:\n",
        "    print(primeira_letra(nome))"
      ],
      "metadata": {
        "colab": {
          "base_uri": "https://localhost:8080/"
        },
        "id": "WoAVH-bO-IHa",
        "outputId": "907e7888-aa80-4c78-999d-ff179e06b6eb"
      },
      "execution_count": 147,
      "outputs": [
        {
          "output_type": "stream",
          "name": "stdout",
          "text": [
            "J\n",
            "P\n",
            "J\n",
            "M\n"
          ]
        }
      ]
    }
  ]
}